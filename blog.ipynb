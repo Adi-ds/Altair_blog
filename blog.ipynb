{
 "cells": [
  {
   "attachments": {},
   "cell_type": "markdown",
   "metadata": {},
   "source": [
    "# Introduction \n",
    "\n",
    "Hi, fellas! Professionals like us, who research, analyse or develop in the world of Data Science, understand the immense value of Data Visualization. If we think about the process of any project, we are evidently going to realise that, charts, graphs and plots are the backbone of our work. The first step of any project we work on is Exploratory Data Analysis, which revolves around visualization to get insights and patterns within the data. Likewise, at the conclusion of the project, we compare the performances of different models with different visualization techniques. We often use plots to track the values of key metrics, such as accuracy or loss, across different stages of the training process. Similarly, if we consider Deep Learning, we monitor the performance of the models on both training and validation sets with plots. So, in the field of Data Science, Data Visualization is an important aspect, which serves as a critical tool for gaining insights, communicating findings, and ultimately driving successful outcomes. \n",
    "\n",
    "*“Graphical excellence is that which gives the viewer the greatest number of ideas in the shortest time with the least ink in the smallest space.” - **Edward Tufte***"
   ]
  },
  {
   "attachments": {},
   "cell_type": "markdown",
   "metadata": {},
   "source": [
    "# Existing Libraries \n",
    "\n",
    "Python has multiple options to perform Data Visualization with the widely available open-source libraries. If you are a beginner, you surely have learnt and used Matplotlib and Seaborn. Even we can create plots with Pandas also. "
   ]
  },
  {
   "cell_type": "code",
   "execution_count": null,
   "metadata": {},
   "outputs": [],
   "source": []
  }
 ],
 "metadata": {
  "language_info": {
   "name": "python"
  },
  "orig_nbformat": 4
 },
 "nbformat": 4,
 "nbformat_minor": 2
}
